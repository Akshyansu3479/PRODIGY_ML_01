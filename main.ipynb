{
 "cells": [
  {
   "cell_type": "code",
   "execution_count": 1,
   "metadata": {},
   "outputs": [
    {
     "name": "stderr",
     "output_type": "stream",
     "text": [
      "C:\\Users\\LENOVO\\anaconda3\\lib\\site-packages\\scipy\\__init__.py:155: UserWarning: A NumPy version >=1.18.5 and <1.25.0 is required for this version of SciPy (detected version 1.26.4\n",
      "  warnings.warn(f\"A NumPy version >={np_minversion} and <{np_maxversion}\"\n"
     ]
    }
   ],
   "source": [
    "# Importing required libraries\n",
    "import numpy as np # linear algebra\n",
    "import pandas as pd # data processing, CSV file I/O (e.g. pd.read_csv)\n",
    "from sklearn.ensemble import RandomForestRegressor\n",
    "from sklearn.model_selection import train_test_split\n",
    "from sklearn.preprocessing import StandardScaler,OneHotEncoder\n",
    "from sklearn.decomposition import PCA\n",
    "from sklearn.metrics import mean_squared_error\n",
    "from sklearn.impute import SimpleImputer"
   ]
  },
  {
   "cell_type": "code",
   "execution_count": 2,
   "metadata": {},
   "outputs": [],
   "source": [
    "# Read the train and test data\n",
    "train_data = pd.read_csv('./train.csv')\n",
    "test_data = pd.read_csv('./test.csv')"
   ]
  },
  {
   "cell_type": "code",
   "execution_count": 3,
   "metadata": {},
   "outputs": [
    {
     "data": {
      "text/html": [
       "<div>\n",
       "<style scoped>\n",
       "    .dataframe tbody tr th:only-of-type {\n",
       "        vertical-align: middle;\n",
       "    }\n",
       "\n",
       "    .dataframe tbody tr th {\n",
       "        vertical-align: top;\n",
       "    }\n",
       "\n",
       "    .dataframe thead th {\n",
       "        text-align: right;\n",
       "    }\n",
       "</style>\n",
       "<table border=\"1\" class=\"dataframe\">\n",
       "  <thead>\n",
       "    <tr style=\"text-align: right;\">\n",
       "      <th></th>\n",
       "      <th>Id</th>\n",
       "      <th>MSSubClass</th>\n",
       "      <th>MSZoning</th>\n",
       "      <th>LotFrontage</th>\n",
       "      <th>LotArea</th>\n",
       "      <th>Street</th>\n",
       "      <th>Alley</th>\n",
       "      <th>LotShape</th>\n",
       "      <th>LandContour</th>\n",
       "      <th>Utilities</th>\n",
       "      <th>...</th>\n",
       "      <th>PoolArea</th>\n",
       "      <th>PoolQC</th>\n",
       "      <th>Fence</th>\n",
       "      <th>MiscFeature</th>\n",
       "      <th>MiscVal</th>\n",
       "      <th>MoSold</th>\n",
       "      <th>YrSold</th>\n",
       "      <th>SaleType</th>\n",
       "      <th>SaleCondition</th>\n",
       "      <th>SalePrice</th>\n",
       "    </tr>\n",
       "  </thead>\n",
       "  <tbody>\n",
       "    <tr>\n",
       "      <th>0</th>\n",
       "      <td>1</td>\n",
       "      <td>60</td>\n",
       "      <td>RL</td>\n",
       "      <td>65.0</td>\n",
       "      <td>8450</td>\n",
       "      <td>Pave</td>\n",
       "      <td>NaN</td>\n",
       "      <td>Reg</td>\n",
       "      <td>Lvl</td>\n",
       "      <td>AllPub</td>\n",
       "      <td>...</td>\n",
       "      <td>0</td>\n",
       "      <td>NaN</td>\n",
       "      <td>NaN</td>\n",
       "      <td>NaN</td>\n",
       "      <td>0</td>\n",
       "      <td>2</td>\n",
       "      <td>2008</td>\n",
       "      <td>WD</td>\n",
       "      <td>Normal</td>\n",
       "      <td>208500</td>\n",
       "    </tr>\n",
       "    <tr>\n",
       "      <th>1</th>\n",
       "      <td>2</td>\n",
       "      <td>20</td>\n",
       "      <td>RL</td>\n",
       "      <td>80.0</td>\n",
       "      <td>9600</td>\n",
       "      <td>Pave</td>\n",
       "      <td>NaN</td>\n",
       "      <td>Reg</td>\n",
       "      <td>Lvl</td>\n",
       "      <td>AllPub</td>\n",
       "      <td>...</td>\n",
       "      <td>0</td>\n",
       "      <td>NaN</td>\n",
       "      <td>NaN</td>\n",
       "      <td>NaN</td>\n",
       "      <td>0</td>\n",
       "      <td>5</td>\n",
       "      <td>2007</td>\n",
       "      <td>WD</td>\n",
       "      <td>Normal</td>\n",
       "      <td>181500</td>\n",
       "    </tr>\n",
       "    <tr>\n",
       "      <th>2</th>\n",
       "      <td>3</td>\n",
       "      <td>60</td>\n",
       "      <td>RL</td>\n",
       "      <td>68.0</td>\n",
       "      <td>11250</td>\n",
       "      <td>Pave</td>\n",
       "      <td>NaN</td>\n",
       "      <td>IR1</td>\n",
       "      <td>Lvl</td>\n",
       "      <td>AllPub</td>\n",
       "      <td>...</td>\n",
       "      <td>0</td>\n",
       "      <td>NaN</td>\n",
       "      <td>NaN</td>\n",
       "      <td>NaN</td>\n",
       "      <td>0</td>\n",
       "      <td>9</td>\n",
       "      <td>2008</td>\n",
       "      <td>WD</td>\n",
       "      <td>Normal</td>\n",
       "      <td>223500</td>\n",
       "    </tr>\n",
       "    <tr>\n",
       "      <th>3</th>\n",
       "      <td>4</td>\n",
       "      <td>70</td>\n",
       "      <td>RL</td>\n",
       "      <td>60.0</td>\n",
       "      <td>9550</td>\n",
       "      <td>Pave</td>\n",
       "      <td>NaN</td>\n",
       "      <td>IR1</td>\n",
       "      <td>Lvl</td>\n",
       "      <td>AllPub</td>\n",
       "      <td>...</td>\n",
       "      <td>0</td>\n",
       "      <td>NaN</td>\n",
       "      <td>NaN</td>\n",
       "      <td>NaN</td>\n",
       "      <td>0</td>\n",
       "      <td>2</td>\n",
       "      <td>2006</td>\n",
       "      <td>WD</td>\n",
       "      <td>Abnorml</td>\n",
       "      <td>140000</td>\n",
       "    </tr>\n",
       "    <tr>\n",
       "      <th>4</th>\n",
       "      <td>5</td>\n",
       "      <td>60</td>\n",
       "      <td>RL</td>\n",
       "      <td>84.0</td>\n",
       "      <td>14260</td>\n",
       "      <td>Pave</td>\n",
       "      <td>NaN</td>\n",
       "      <td>IR1</td>\n",
       "      <td>Lvl</td>\n",
       "      <td>AllPub</td>\n",
       "      <td>...</td>\n",
       "      <td>0</td>\n",
       "      <td>NaN</td>\n",
       "      <td>NaN</td>\n",
       "      <td>NaN</td>\n",
       "      <td>0</td>\n",
       "      <td>12</td>\n",
       "      <td>2008</td>\n",
       "      <td>WD</td>\n",
       "      <td>Normal</td>\n",
       "      <td>250000</td>\n",
       "    </tr>\n",
       "  </tbody>\n",
       "</table>\n",
       "<p>5 rows × 81 columns</p>\n",
       "</div>"
      ],
      "text/plain": [
       "   Id  MSSubClass MSZoning  LotFrontage  LotArea Street Alley LotShape  \\\n",
       "0   1          60       RL         65.0     8450   Pave   NaN      Reg   \n",
       "1   2          20       RL         80.0     9600   Pave   NaN      Reg   \n",
       "2   3          60       RL         68.0    11250   Pave   NaN      IR1   \n",
       "3   4          70       RL         60.0     9550   Pave   NaN      IR1   \n",
       "4   5          60       RL         84.0    14260   Pave   NaN      IR1   \n",
       "\n",
       "  LandContour Utilities  ... PoolArea PoolQC Fence MiscFeature MiscVal MoSold  \\\n",
       "0         Lvl    AllPub  ...        0    NaN   NaN         NaN       0      2   \n",
       "1         Lvl    AllPub  ...        0    NaN   NaN         NaN       0      5   \n",
       "2         Lvl    AllPub  ...        0    NaN   NaN         NaN       0      9   \n",
       "3         Lvl    AllPub  ...        0    NaN   NaN         NaN       0      2   \n",
       "4         Lvl    AllPub  ...        0    NaN   NaN         NaN       0     12   \n",
       "\n",
       "  YrSold  SaleType  SaleCondition  SalePrice  \n",
       "0   2008        WD         Normal     208500  \n",
       "1   2007        WD         Normal     181500  \n",
       "2   2008        WD         Normal     223500  \n",
       "3   2006        WD        Abnorml     140000  \n",
       "4   2008        WD         Normal     250000  \n",
       "\n",
       "[5 rows x 81 columns]"
      ]
     },
     "execution_count": 3,
     "metadata": {},
     "output_type": "execute_result"
    }
   ],
   "source": [
    "# Display the first few rows of the train data\n",
    "train_data.head()"
   ]
  },
  {
   "cell_type": "code",
   "execution_count": 4,
   "metadata": {},
   "outputs": [
    {
     "name": "stdout",
     "output_type": "stream",
     "text": [
      "<class 'pandas.core.frame.DataFrame'>\n",
      "RangeIndex: 1460 entries, 0 to 1459\n",
      "Data columns (total 81 columns):\n",
      " #   Column         Non-Null Count  Dtype  \n",
      "---  ------         --------------  -----  \n",
      " 0   Id             1460 non-null   int64  \n",
      " 1   MSSubClass     1460 non-null   int64  \n",
      " 2   MSZoning       1460 non-null   object \n",
      " 3   LotFrontage    1201 non-null   float64\n",
      " 4   LotArea        1460 non-null   int64  \n",
      " 5   Street         1460 non-null   object \n",
      " 6   Alley          91 non-null     object \n",
      " 7   LotShape       1460 non-null   object \n",
      " 8   LandContour    1460 non-null   object \n",
      " 9   Utilities      1460 non-null   object \n",
      " 10  LotConfig      1460 non-null   object \n",
      " 11  LandSlope      1460 non-null   object \n",
      " 12  Neighborhood   1460 non-null   object \n",
      " 13  Condition1     1460 non-null   object \n",
      " 14  Condition2     1460 non-null   object \n",
      " 15  BldgType       1460 non-null   object \n",
      " 16  HouseStyle     1460 non-null   object \n",
      " 17  OverallQual    1460 non-null   int64  \n",
      " 18  OverallCond    1460 non-null   int64  \n",
      " 19  YearBuilt      1460 non-null   int64  \n",
      " 20  YearRemodAdd   1460 non-null   int64  \n",
      " 21  RoofStyle      1460 non-null   object \n",
      " 22  RoofMatl       1460 non-null   object \n",
      " 23  Exterior1st    1460 non-null   object \n",
      " 24  Exterior2nd    1460 non-null   object \n",
      " 25  MasVnrType     1452 non-null   object \n",
      " 26  MasVnrArea     1452 non-null   float64\n",
      " 27  ExterQual      1460 non-null   object \n",
      " 28  ExterCond      1460 non-null   object \n",
      " 29  Foundation     1460 non-null   object \n",
      " 30  BsmtQual       1423 non-null   object \n",
      " 31  BsmtCond       1423 non-null   object \n",
      " 32  BsmtExposure   1422 non-null   object \n",
      " 33  BsmtFinType1   1423 non-null   object \n",
      " 34  BsmtFinSF1     1460 non-null   int64  \n",
      " 35  BsmtFinType2   1422 non-null   object \n",
      " 36  BsmtFinSF2     1460 non-null   int64  \n",
      " 37  BsmtUnfSF      1460 non-null   int64  \n",
      " 38  TotalBsmtSF    1460 non-null   int64  \n",
      " 39  Heating        1460 non-null   object \n",
      " 40  HeatingQC      1460 non-null   object \n",
      " 41  CentralAir     1460 non-null   object \n",
      " 42  Electrical     1459 non-null   object \n",
      " 43  1stFlrSF       1460 non-null   int64  \n",
      " 44  2ndFlrSF       1460 non-null   int64  \n",
      " 45  LowQualFinSF   1460 non-null   int64  \n",
      " 46  GrLivArea      1460 non-null   int64  \n",
      " 47  BsmtFullBath   1460 non-null   int64  \n",
      " 48  BsmtHalfBath   1460 non-null   int64  \n",
      " 49  FullBath       1460 non-null   int64  \n",
      " 50  HalfBath       1460 non-null   int64  \n",
      " 51  BedroomAbvGr   1460 non-null   int64  \n",
      " 52  KitchenAbvGr   1460 non-null   int64  \n",
      " 53  KitchenQual    1460 non-null   object \n",
      " 54  TotRmsAbvGrd   1460 non-null   int64  \n",
      " 55  Functional     1460 non-null   object \n",
      " 56  Fireplaces     1460 non-null   int64  \n",
      " 57  FireplaceQu    770 non-null    object \n",
      " 58  GarageType     1379 non-null   object \n",
      " 59  GarageYrBlt    1379 non-null   float64\n",
      " 60  GarageFinish   1379 non-null   object \n",
      " 61  GarageCars     1460 non-null   int64  \n",
      " 62  GarageArea     1460 non-null   int64  \n",
      " 63  GarageQual     1379 non-null   object \n",
      " 64  GarageCond     1379 non-null   object \n",
      " 65  PavedDrive     1460 non-null   object \n",
      " 66  WoodDeckSF     1460 non-null   int64  \n",
      " 67  OpenPorchSF    1460 non-null   int64  \n",
      " 68  EnclosedPorch  1460 non-null   int64  \n",
      " 69  3SsnPorch      1460 non-null   int64  \n",
      " 70  ScreenPorch    1460 non-null   int64  \n",
      " 71  PoolArea       1460 non-null   int64  \n",
      " 72  PoolQC         7 non-null      object \n",
      " 73  Fence          281 non-null    object \n",
      " 74  MiscFeature    54 non-null     object \n",
      " 75  MiscVal        1460 non-null   int64  \n",
      " 76  MoSold         1460 non-null   int64  \n",
      " 77  YrSold         1460 non-null   int64  \n",
      " 78  SaleType       1460 non-null   object \n",
      " 79  SaleCondition  1460 non-null   object \n",
      " 80  SalePrice      1460 non-null   int64  \n",
      "dtypes: float64(3), int64(35), object(43)\n",
      "memory usage: 924.0+ KB\n"
     ]
    }
   ],
   "source": [
    "# Get information about the train data, including data types and missing values\n",
    "train_data.info()"
   ]
  },
  {
   "cell_type": "code",
   "execution_count": 5,
   "metadata": {},
   "outputs": [],
   "source": [
    "# Separate features (X) and target (y) columns\n",
    "X = train_data.drop('SalePrice', axis=1)\n",
    "y = train_data['SalePrice']"
   ]
  },
  {
   "cell_type": "code",
   "execution_count": 6,
   "metadata": {},
   "outputs": [],
   "source": [
    "# Select numeric and categorical features\n",
    "numeric_features = X.select_dtypes(include=['int64', 'float64']).columns\n",
    "categorical_features = X.select_dtypes(include=['object']).columns"
   ]
  },
  {
   "cell_type": "code",
   "execution_count": 7,
   "metadata": {},
   "outputs": [],
   "source": [
    "# Impute missing values for numeric features with the mean\n",
    "numeric_imputer = SimpleImputer(strategy='mean')\n",
    "X[numeric_features] = numeric_imputer.fit_transform(X[numeric_features])\n",
    "test_data[numeric_features] = numeric_imputer.transform(test_data[numeric_features])"
   ]
  },
  {
   "cell_type": "code",
   "execution_count": 8,
   "metadata": {},
   "outputs": [],
   "source": [
    "# Impute missing values for categorical features with the most frequent value\n",
    "categorical_imputer = SimpleImputer(strategy='most_frequent')\n",
    "X[categorical_features] = categorical_imputer.fit_transform(X[categorical_features])\n",
    "test_data[categorical_features] = categorical_imputer.transform(test_data[categorical_features])"
   ]
  },
  {
   "cell_type": "code",
   "execution_count": 9,
   "metadata": {},
   "outputs": [],
   "source": [
    "# Encode categorical features using OneHotEncoder\n",
    "encoder = OneHotEncoder(drop='first')\n",
    "X_encoded = pd.DataFrame(encoder.fit_transform(X[categorical_features]).toarray())\n",
    "test_data_encoded = pd.DataFrame(encoder.transform(test_data[categorical_features]).toarray())\n"
   ]
  },
  {
   "cell_type": "code",
   "execution_count": 10,
   "metadata": {},
   "outputs": [],
   "source": [
    "# Concatenate encoded categorical features with numeric features\n",
    "X = pd.concat([X.drop(categorical_features, axis=1), X_encoded], axis=1)\n",
    "test_data = pd.concat([test_data.drop(categorical_features, axis=1), test_data_encoded], axis=1)"
   ]
  },
  {
   "cell_type": "code",
   "execution_count": 11,
   "metadata": {},
   "outputs": [],
   "source": [
    "# Standardize numeric features\n",
    "scaler = StandardScaler()\n",
    "X[numeric_features] = scaler.fit_transform(X[numeric_features])\n",
    "test_data[numeric_features] = scaler.transform(test_data[numeric_features])"
   ]
  },
  {
   "cell_type": "code",
   "execution_count": 12,
   "metadata": {},
   "outputs": [],
   "source": [
    "# Convert column names to strings\n",
    "X.columns = X.columns.astype(str)\n",
    "test_data.columns = test_data.columns.astype(str)"
   ]
  },
  {
   "cell_type": "code",
   "execution_count": 13,
   "metadata": {},
   "outputs": [],
   "source": [
    "# Reduce dimensionality using PCA\n",
    "pca = PCA(n_components=0.95)  \n",
    "X_pca = pd.DataFrame(pca.fit_transform(X))\n",
    "test_data_pca = pd.DataFrame(pca.transform(test_data))"
   ]
  },
  {
   "cell_type": "code",
   "execution_count": 14,
   "metadata": {},
   "outputs": [],
   "source": [
    "# Split the data into train and validation sets\n",
    "X_train, X_val, y_train, y_val = train_test_split(X_pca, y, test_size=0.2, random_state=42)"
   ]
  },
  {
   "cell_type": "code",
   "execution_count": 15,
   "metadata": {},
   "outputs": [
    {
     "name": "stdout",
     "output_type": "stream",
     "text": [
      "WARNING:tensorflow:From C:\\Users\\LENOVO\\anaconda3\\lib\\site-packages\\keras\\src\\losses.py:2976: The name tf.losses.sparse_softmax_cross_entropy is deprecated. Please use tf.compat.v1.losses.sparse_softmax_cross_entropy instead.\n",
      "\n"
     ]
    }
   ],
   "source": [
    "# Import TensorFlow and define the neural network model\n",
    "import tensorflow as tf\n",
    "from tensorflow.keras import layers, models"
   ]
  },
  {
   "cell_type": "code",
   "execution_count": 16,
   "metadata": {},
   "outputs": [
    {
     "name": "stdout",
     "output_type": "stream",
     "text": [
      "WARNING:tensorflow:From C:\\Users\\LENOVO\\anaconda3\\lib\\site-packages\\keras\\src\\backend.py:873: The name tf.get_default_graph is deprecated. Please use tf.compat.v1.get_default_graph instead.\n",
      "\n"
     ]
    }
   ],
   "source": [
    "model = models.Sequential([\n",
    "    layers.Dense(128, activation='relu', input_shape=(X_train.shape[1],)),\n",
    "    layers.Dropout(0.2),\n",
    "    layers.Dense(64, activation='relu'),\n",
    "    layers.Dense(1)  # Output layer for regression\n",
    "])"
   ]
  },
  {
   "cell_type": "code",
   "execution_count": 17,
   "metadata": {},
   "outputs": [
    {
     "name": "stdout",
     "output_type": "stream",
     "text": [
      "WARNING:tensorflow:From C:\\Users\\LENOVO\\anaconda3\\lib\\site-packages\\keras\\src\\optimizers\\__init__.py:309: The name tf.train.Optimizer is deprecated. Please use tf.compat.v1.train.Optimizer instead.\n",
      "\n"
     ]
    }
   ],
   "source": [
    "# Compile the model\n",
    "model.compile(optimizer='adam', loss='mean_squared_error')"
   ]
  },
  {
   "cell_type": "code",
   "execution_count": 18,
   "metadata": {},
   "outputs": [
    {
     "name": "stdout",
     "output_type": "stream",
     "text": [
      "Epoch 1/50\n",
      "WARNING:tensorflow:From C:\\Users\\LENOVO\\anaconda3\\lib\\site-packages\\keras\\src\\utils\\tf_utils.py:492: The name tf.ragged.RaggedTensorValue is deprecated. Please use tf.compat.v1.ragged.RaggedTensorValue instead.\n",
      "\n",
      "37/37 [==============================] - 1s 6ms/step - loss: 38883794944.0000 - val_loss: 39649910784.0000\n",
      "Epoch 2/50\n",
      "37/37 [==============================] - 0s 2ms/step - loss: 38876971008.0000 - val_loss: 39639289856.0000\n",
      "Epoch 3/50\n",
      "37/37 [==============================] - 0s 2ms/step - loss: 38859542528.0000 - val_loss: 39614808064.0000\n",
      "Epoch 4/50\n",
      "37/37 [==============================] - 0s 3ms/step - loss: 38823354368.0000 - val_loss: 39566610432.0000\n",
      "Epoch 5/50\n",
      "37/37 [==============================] - 0s 3ms/step - loss: 38756356096.0000 - val_loss: 39485935616.0000\n",
      "Epoch 6/50\n",
      "37/37 [==============================] - 0s 2ms/step - loss: 38650892288.0000 - val_loss: 39359807488.0000\n",
      "Epoch 7/50\n",
      "37/37 [==============================] - 0s 3ms/step - loss: 38494556160.0000 - val_loss: 39183212544.0000\n",
      "Epoch 8/50\n",
      "37/37 [==============================] - 0s 3ms/step - loss: 38276308992.0000 - val_loss: 38940229632.0000\n",
      "Epoch 9/50\n",
      "37/37 [==============================] - 0s 3ms/step - loss: 37982285824.0000 - val_loss: 38624006144.0000\n",
      "Epoch 10/50\n",
      "37/37 [==============================] - 0s 2ms/step - loss: 37605380096.0000 - val_loss: 38224875520.0000\n",
      "Epoch 11/50\n",
      "37/37 [==============================] - 0s 2ms/step - loss: 37132513280.0000 - val_loss: 37733076992.0000\n",
      "Epoch 12/50\n",
      "37/37 [==============================] - 0s 3ms/step - loss: 36554096640.0000 - val_loss: 37137960960.0000\n",
      "Epoch 13/50\n",
      "37/37 [==============================] - 0s 2ms/step - loss: 35879522304.0000 - val_loss: 36446191616.0000\n",
      "Epoch 14/50\n",
      "37/37 [==============================] - 0s 2ms/step - loss: 35090546688.0000 - val_loss: 35638898688.0000\n",
      "Epoch 15/50\n",
      "37/37 [==============================] - 0s 3ms/step - loss: 34189754368.0000 - val_loss: 34741727232.0000\n",
      "Epoch 16/50\n",
      "37/37 [==============================] - 0s 3ms/step - loss: 33180743680.0000 - val_loss: 33723467776.0000\n",
      "Epoch 17/50\n",
      "37/37 [==============================] - 0s 3ms/step - loss: 32065816576.0000 - val_loss: 32605624320.0000\n",
      "Epoch 18/50\n",
      "37/37 [==============================] - 0s 3ms/step - loss: 30891397120.0000 - val_loss: 31418607616.0000\n",
      "Epoch 19/50\n",
      "37/37 [==============================] - 0s 3ms/step - loss: 29562771456.0000 - val_loss: 30117083136.0000\n",
      "Epoch 20/50\n",
      "37/37 [==============================] - 0s 3ms/step - loss: 28198139904.0000 - val_loss: 28765454336.0000\n",
      "Epoch 21/50\n",
      "37/37 [==============================] - 0s 3ms/step - loss: 26766651392.0000 - val_loss: 27288739840.0000\n",
      "Epoch 22/50\n",
      "37/37 [==============================] - 0s 3ms/step - loss: 25269340160.0000 - val_loss: 25842823168.0000\n",
      "Epoch 23/50\n",
      "37/37 [==============================] - 0s 3ms/step - loss: 23671775232.0000 - val_loss: 24313638912.0000\n",
      "Epoch 24/50\n",
      "37/37 [==============================] - 0s 3ms/step - loss: 22105266176.0000 - val_loss: 22762629120.0000\n",
      "Epoch 25/50\n",
      "37/37 [==============================] - 0s 3ms/step - loss: 20533213184.0000 - val_loss: 21199665152.0000\n",
      "Epoch 26/50\n",
      "37/37 [==============================] - 0s 2ms/step - loss: 18931030016.0000 - val_loss: 19658543104.0000\n",
      "Epoch 27/50\n",
      "37/37 [==============================] - 0s 3ms/step - loss: 17430284288.0000 - val_loss: 18176067584.0000\n",
      "Epoch 28/50\n",
      "37/37 [==============================] - 0s 2ms/step - loss: 15960908800.0000 - val_loss: 16697140224.0000\n",
      "Epoch 29/50\n",
      "37/37 [==============================] - 0s 2ms/step - loss: 14466077696.0000 - val_loss: 15277154304.0000\n",
      "Epoch 30/50\n",
      "37/37 [==============================] - 0s 3ms/step - loss: 13184559104.0000 - val_loss: 13931013120.0000\n",
      "Epoch 31/50\n",
      "37/37 [==============================] - 0s 3ms/step - loss: 11846818816.0000 - val_loss: 12688638976.0000\n",
      "Epoch 32/50\n",
      "37/37 [==============================] - 0s 2ms/step - loss: 10660799488.0000 - val_loss: 11545782272.0000\n",
      "Epoch 33/50\n",
      "37/37 [==============================] - 0s 3ms/step - loss: 9642985472.0000 - val_loss: 10451802112.0000\n",
      "Epoch 34/50\n",
      "37/37 [==============================] - 0s 3ms/step - loss: 8721123328.0000 - val_loss: 9489478656.0000\n",
      "Epoch 35/50\n",
      "37/37 [==============================] - 0s 3ms/step - loss: 7829768192.0000 - val_loss: 8602945536.0000\n",
      "Epoch 36/50\n",
      "37/37 [==============================] - 0s 2ms/step - loss: 7112534016.0000 - val_loss: 7834663424.0000\n",
      "Epoch 37/50\n",
      "37/37 [==============================] - 0s 3ms/step - loss: 6508549632.0000 - val_loss: 7136171008.0000\n",
      "Epoch 38/50\n",
      "37/37 [==============================] - 0s 3ms/step - loss: 5901296640.0000 - val_loss: 6542489088.0000\n",
      "Epoch 39/50\n",
      "37/37 [==============================] - 0s 3ms/step - loss: 5414272000.0000 - val_loss: 5998209536.0000\n",
      "Epoch 40/50\n",
      "37/37 [==============================] - 0s 3ms/step - loss: 4870712832.0000 - val_loss: 5519361024.0000\n",
      "Epoch 41/50\n",
      "37/37 [==============================] - 0s 3ms/step - loss: 4473325568.0000 - val_loss: 5098433536.0000\n",
      "Epoch 42/50\n",
      "37/37 [==============================] - 0s 3ms/step - loss: 4294796288.0000 - val_loss: 4741180928.0000\n",
      "Epoch 43/50\n",
      "37/37 [==============================] - 0s 3ms/step - loss: 3912953856.0000 - val_loss: 4432850432.0000\n",
      "Epoch 44/50\n",
      "37/37 [==============================] - 0s 2ms/step - loss: 3597666560.0000 - val_loss: 4132625152.0000\n",
      "Epoch 45/50\n",
      "37/37 [==============================] - 0s 3ms/step - loss: 3378282496.0000 - val_loss: 3889852416.0000\n",
      "Epoch 46/50\n",
      "37/37 [==============================] - 0s 3ms/step - loss: 3249243136.0000 - val_loss: 3662051584.0000\n",
      "Epoch 47/50\n",
      "37/37 [==============================] - 0s 3ms/step - loss: 3056447744.0000 - val_loss: 3456380416.0000\n",
      "Epoch 48/50\n",
      "37/37 [==============================] - 0s 3ms/step - loss: 2924145408.0000 - val_loss: 3269874944.0000\n",
      "Epoch 49/50\n",
      "37/37 [==============================] - 0s 3ms/step - loss: 2682053632.0000 - val_loss: 3101999360.0000\n",
      "Epoch 50/50\n",
      "37/37 [==============================] - 0s 3ms/step - loss: 2525030656.0000 - val_loss: 2950606336.0000\n"
     ]
    },
    {
     "data": {
      "text/plain": [
       "<keras.src.callbacks.History at 0x1735e321730>"
      ]
     },
     "execution_count": 18,
     "metadata": {},
     "output_type": "execute_result"
    }
   ],
   "source": [
    "# Train the model\n",
    "model.fit(X_train, y_train, epochs=50, batch_size=32, validation_data=(X_val, y_val))"
   ]
  },
  {
   "cell_type": "code",
   "execution_count": 19,
   "metadata": {},
   "outputs": [
    {
     "name": "stdout",
     "output_type": "stream",
     "text": [
      "10/10 [==============================] - 0s 2ms/step\n"
     ]
    }
   ],
   "source": [
    "# Make predictions on the validation set\n",
    "val_predictions = model.predict(X_val)"
   ]
  },
  {
   "cell_type": "code",
   "execution_count": 20,
   "metadata": {},
   "outputs": [],
   "source": [
    "# Convert predictions back to original scale\n",
    "val_predictions = np.expm1(np.clip(val_predictions, -10, 10))"
   ]
  },
  {
   "cell_type": "code",
   "execution_count": 21,
   "metadata": {},
   "outputs": [
    {
     "name": "stdout",
     "output_type": "stream",
     "text": [
      "Root Mean Squared Error on Validation Set: 179613.6564115453\n"
     ]
    }
   ],
   "source": [
    "# Calculate root mean squared error on the validation set\n",
    "rmse = np.sqrt(mean_squared_error(train_data['SalePrice'].loc[y_val.index], val_predictions))\n",
    "print(f'Root Mean Squared Error on Validation Set: {rmse}')"
   ]
  },
  {
   "cell_type": "code",
   "execution_count": 22,
   "metadata": {},
   "outputs": [
    {
     "name": "stdout",
     "output_type": "stream",
     "text": [
      "46/46 [==============================] - 0s 855us/step\n"
     ]
    }
   ],
   "source": [
    "# Make predictions on the test set\n",
    "test_predictions = model.predict(test_data_pca)"
   ]
  },
  {
   "cell_type": "code",
   "execution_count": 23,
   "metadata": {},
   "outputs": [],
   "source": [
    "# Convert predictions back to original scale\n",
    "test_predictions = np.expm1(np.clip(test_predictions, -10,10))"
   ]
  },
  {
   "cell_type": "code",
   "execution_count": 24,
   "metadata": {},
   "outputs": [
    {
     "data": {
      "text/html": [
       "<div>\n",
       "<style scoped>\n",
       "    .dataframe tbody tr th:only-of-type {\n",
       "        vertical-align: middle;\n",
       "    }\n",
       "\n",
       "    .dataframe tbody tr th {\n",
       "        vertical-align: top;\n",
       "    }\n",
       "\n",
       "    .dataframe thead th {\n",
       "        text-align: right;\n",
       "    }\n",
       "</style>\n",
       "<table border=\"1\" class=\"dataframe\">\n",
       "  <thead>\n",
       "    <tr style=\"text-align: right;\">\n",
       "      <th></th>\n",
       "      <th>Id</th>\n",
       "      <th>SalePrice</th>\n",
       "    </tr>\n",
       "  </thead>\n",
       "  <tbody>\n",
       "    <tr>\n",
       "      <th>0</th>\n",
       "      <td>1461</td>\n",
       "      <td>22025.464844</td>\n",
       "    </tr>\n",
       "    <tr>\n",
       "      <th>1</th>\n",
       "      <td>1462</td>\n",
       "      <td>22025.464844</td>\n",
       "    </tr>\n",
       "    <tr>\n",
       "      <th>2</th>\n",
       "      <td>1463</td>\n",
       "      <td>22025.464844</td>\n",
       "    </tr>\n",
       "    <tr>\n",
       "      <th>3</th>\n",
       "      <td>1464</td>\n",
       "      <td>22025.464844</td>\n",
       "    </tr>\n",
       "    <tr>\n",
       "      <th>4</th>\n",
       "      <td>1465</td>\n",
       "      <td>22025.464844</td>\n",
       "    </tr>\n",
       "  </tbody>\n",
       "</table>\n",
       "</div>"
      ],
      "text/plain": [
       "     Id     SalePrice\n",
       "0  1461  22025.464844\n",
       "1  1462  22025.464844\n",
       "2  1463  22025.464844\n",
       "3  1464  22025.464844\n",
       "4  1465  22025.464844"
      ]
     },
     "execution_count": 24,
     "metadata": {},
     "output_type": "execute_result"
    }
   ],
   "source": [
    "# Create submission file\n",
    "sample_submission_df = pd.read_csv('./sample_submission.csv')\n",
    "sample_submission_df['SalePrice'] = test_predictions\n",
    "sample_submission_df.to_csv('./submission.csv', index=False)\n",
    "sample_submission_df.head()"
   ]
  },
  {
   "cell_type": "code",
   "execution_count": null,
   "metadata": {},
   "outputs": [],
   "source": []
  }
 ],
 "metadata": {
  "kernelspec": {
   "display_name": "Python 3 (ipykernel)",
   "language": "python",
   "name": "python3"
  },
  "language_info": {
   "codemirror_mode": {
    "name": "ipython",
    "version": 3
   },
   "file_extension": ".py",
   "mimetype": "text/x-python",
   "name": "python",
   "nbconvert_exporter": "python",
   "pygments_lexer": "ipython3",
   "version": "3.11.1"
  }
 },
 "nbformat": 4,
 "nbformat_minor": 2
}
